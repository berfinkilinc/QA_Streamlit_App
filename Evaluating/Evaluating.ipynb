{
 "cells": [
  {
   "metadata": {},
   "cell_type": "markdown",
   "source": "## Evaluate the model",
   "id": "1941c26e80390938"
  },
  {
   "metadata": {},
   "cell_type": "markdown",
   "source": "For the evaluation phase, I selected 300 samples from the dataset then rephrased them. I re-embedded these samples and asked the model to find answers again. My model and the FAISS method achieved an accuracy of 0.86.",
   "id": "a8777f640f6cbce1"
  },
  {
   "cell_type": "code",
   "id": "initial_id",
   "metadata": {
    "collapsed": true,
    "ExecuteTime": {
     "end_time": "2025-05-10T11:00:54.102258Z",
     "start_time": "2025-05-10T11:00:54.068223Z"
    }
   },
   "source": [
    "import pickle\n",
    "import faiss\n",
    "import numpy as np\n",
    "import pandas as pd\n",
    "from zipfile import ZipFile\n",
    "from sentence_transformers import SentenceTransformer"
   ],
   "outputs": [],
   "execution_count": 8
  },
  {
   "metadata": {
    "ExecuteTime": {
     "end_time": "2025-05-10T11:00:57.903986Z",
     "start_time": "2025-05-10T11:00:57.874442Z"
    }
   },
   "cell_type": "code",
   "source": [
    "my_file = open(\"changed_samples2.txt\", \"r\", encoding=\"utf-8\")\n",
    "\n",
    "# reading the file\n",
    "data = my_file.read()\n",
    "\n",
    "question_list = data.replace('\\n', ' ').split(\"?\")\n",
    "question_list.pop()\n",
    "# printing the data\n",
    "print(question_list)\n",
    "my_file.close()"
   ],
   "id": "2bddcd4fbcb23123",
   "outputs": [
    {
     "name": "stdout",
     "output_type": "stream",
     "text": [
      "['what is justin bieber’s brother called', '  which role did natalie portman portray in star wars', '  selena gomez is from which state', '  grand bahama island is a part of which country', '  what currency should be brought to the bahamas', '  which character did john noble act as in the lord of the rings', '  which team is joakim noah associated with', '  the nfl team redskins originates from where', '  in which location did saki reside', '  what is sacha baron cohen’s current age', '  at the start of ww2, which two nations attacked poland', '  which time zone applies to cleveland, ohio', '  who did draco malfoy marry in the end', '  what nations share a border with the usa', '  where on a map can rome, italy be found', '  what is nina dobrev’s nationality', '  iceland is a territory of which nation', '  who was the first kennedy to pass away', '  which books were authored by beverly cleary', '  from which country did the philippines achieve independence', '  what is the main airport to fly into for bali', '  who currently leads ethiopia as prime minister', '  what are the top attractions close to sedona, arizona', '  where did bill clinton attend high school', '  what kind of political system does russia have now', '  which films feature taylor lautner', '  in which year did lebron james join the nba', '  what resulted from the german revolution', '  how much weight did adriana lima put on while pregnant', '  what does the word thai refer to', '  which of his wives did king henry have executed', '  who was the mother of ishmael', '  what goal did malcolm x work toward', '  where is the netherlands shown on the global map', '  who holds the presidential office in brazil', '  which cities are considered major in france', '  which city was home to esther', '  toronto maple leafs compete in which sport', '  what is saint nicholas remembered for', '  when will the new season of \"the only way is essex\" be released', '  what’s the name of cher’s son', '  what is martin cooper currently involved in', '  what political party did andrew jackson belong to', '  can you explain what medicare a covers', '  hampton, va is located in which county', '  what’s the title of the first harry potter book', '  what profession did shakespeare have', '  in which county is heathrow airport situated', '  where did dmitri mendeleev receive his scientific training', '  josh hutcherson appears in which movie', '  what activities are available in laredo, texas', '  during which season was tony soprano shot', '  where do the san francisco giants host their games', '  which year did william jennings bryan campaign for presidency', '  what’s the name of frederick douglass’s autobiography', '  what were the names of queen victoria’s parents', '  sally field earned academy awards for which films', '  what was the first sherlock holmes book', '  what model of vehicle does michael weston drive', '  where does the lena river start and finish', '  in which nations is portuguese spoken', '  where can euros be exchanged in pittsburgh', '  what are the names of walt disney’s children', '  who are the members of the band bush', '  what was tupac’s character in the film “juice”', '  what is australia’s gmt time zone', '  maggie grace played which role in the film “taken”', '  what music genre is associated with louis armstrong', '  when does summer season occur in sydney, australia', '  what series featured joey lawrence', '  what is the time zone of denver, colorado', '  which part did brian austin green take in 90210', '  in which place does jackie french live', '  what type of government system existed in sparta', '  when did the colorado rockies reach the world series', '  who was peter parker’s original romantic interest', '  where did matt lauer go to college', '  what are good places to visit in london, uk', '  which educational institution did joan miro study at', '  what regions did france colonize', '  who influenced the artwork of vincent van gogh', '  where are popular wedding venues in jacksonville, nc', '  what time zone is used in michigan', '  in what year did the new york knicks last win a title', '  what was china’s official language in 2010', '  what are some key achievements of woodrow wilson', '  where is the jack daniel’s distillery located', '  what language is spoken by the population of pakistan', '  where can santa clara university be found', '  which half of korea follows communism', '  which facility held timothy mcveigh in custody', '  into what sea does the yangtze river discharge', '  who was miley cyrus previously engaged to', '  for what contribution is charles darwin well known', '  who established the roanoke colony', '  what money is advisable to carry when visiting jamaica', '  who is the spouse of robert downey jr', '  which arena do the new york rangers use', '  where has jefferson davis been laid to rest', '  which role did twilight author stephenie meyer portray in the movie', '  at what event will oscar pistorius compete', ' In which years did the Dallas Cowboys secure Super Bowl victories', '  What honors has Louis Sachar received', \"  Who are Missouri's current senators\", \"  Who assumed the presidency following JFK's death\", '  What was the recommended currency to carry to Egypt in 2013', '  Which nations make up the United Kingdom', '  What types of aircraft does the Navy utilize', '  Where did Benjamin Franklin pass away', '  What are good tourist spots in Northern Ireland', '  What are family-friendly activities in Cancun', '  What language is primarily spoken in Israel', '  In what city and state was the Air Force Academy founded', '  What is Puerto Rico’s official sport', '  What is the predominant religion practiced in Russia', '  What roles has Shawnee Smith performed in', '  Which territories were under Queen Victoria’s rule', '  Where did Dr. Seuss receive his education', '  Which football club does Luis Suarez represent', '  What is the term for dollars in Spain', '  Who voices Meg on Family Guy', '  Which high school did Tim Allen attend', '  What is the name of the tallest skyscraper in Dubai', '  Which destinations are covered by Asiana Airlines', '  Which film did Angelina Jolie direct', '  Where was Martin Luther King Jr. assassinated', '  What are nearby places to explore from Bangkok', '  Who is the father of Christina Milian’s child', '  In which year did King Tut assume the throne', '  Who held the presidency of the Dominican Republic in 2010', '  Whom has Julia Roberts been married to', '  What is the home stadium of the Baltimore Ravens', '  What are the sources of funding for the United Nations', '  What team is Brandon Dubinsky affiliated with', '  Which people has Taylor Swift previously dated', '  What language is mainly spoken in Israel', '  What are the primary languages spoken in Nigeria', '  What occupations did Benjamin Franklin have', '  Which version of the Bible is used in Catholicism', '  Who provides the voice for Lola Bunny in The Looney Tunes Show', '  In which stadium did the Chicago Cardinals play', '  Who is Rufus Wainwright’s spouse', '  Where did C.S. Lewis attend university', '  What was Nick Clegg’s field of study at university', '  Who served as the EU President in 2011', '  Which school did Cassie Bernall attend', '  What film was written by James Frey', '  What surgery did Rob Kardashian undergo', '  What role did Saint Matthew serve', '  When was Harry Potter and the Deathly Hallows Part 2 released on DVD', '  What was Nelson Mandela’s religious affiliation', '  Who won the Stanley Cup in the 2011 NHL season', '  What is Henry Clay remembered for', '  Whom did Axl Rose marry', '  Which years did Brett Favre appear in the Super Bowl', '  What is the name of Spain’s currency', '  Where are Sunbeam microwave ovens manufactured', '  Who became the President of the Philippines', '  What cities does Ryanair operate in', '  What is the time zone in Oklahoma', '  How was the Apostle Paul viewed', '  What currency is used in Ontario, Canada', '  What instrument does Justin Bieber play', '  Which team was Shaquille O’Neal’s first in the NBA', '  What location was President Kennedy in when he was shot', '  Which team does Derek Fisher play for', '  Where was the trial for Casey Anthony held', '  What university did Bill Clinton attend', '  What was the name of the original baseball team in Seattle', '  What was General Cornwallis’s role in the American Revolution', '  What type of monarchy existed in England', '  When was the Texas Rangers baseball team founded', '  Where did the Houston Oilers relocate', '  What is football called in Spanish-speaking countries', '  Where did Pauley Perrette attend college', '  What city does Niles Crane live in', '  In which place was Gabriel Fauré born', '  Who held the governor’s office in Kentucky in 2012', '  Who was a U.S. senator in 2010', '  Where did the large Allied landing in northern France occur in June 1944', '  Which countries are included in the United Kingdom', '  What is the postal code for London', \"  Who was responsible for Vincent Chin's death in the documentary\", '  What other novels did Jules Verne author', '  What is the currency used in Brazil', '  What language is spoken in Fiji', '  What is the name of the second Percy Jackson novel', '  What did Gregor Mendel base his experiments on', '  Who was the person Jon Gosselin was unfaithful with', '  Where is the headquarters of Mitsubishi located', '  What is Jay Cutler’s current status', '  Which nations are members of the European Union', '  What were the artistic influences on Vincent van Gogh', '  Which time zones exist within the United States', '  What are the five largest cities in the U.S.', '  Which language is spoken by Australians', \"  Who was Ben Stiller's character in Megamind\", '  Which countries were under Queen Victoria’s reign', \"  What are the names of Betty White's parents\", '  Where did Jeff Dunham pursue his education', '  What university did KevJumba attend', '  which team did david james represent in 2011', '  what was the goal of the gulf of tonkin resolution in 1964', '  in which films has diana ross acted', '  what is the postal code for minneapolis', '  in which nation is the west bank found', '  who received the golden boot award', '  in what location did jane mansfield pass away', '  where can the thames river be found', '  when was the most recent stanley cup victory for the kings', '  what educational institution did william shakespeare attend', '  which currency is used in chile', '  which university did peyton manning attend', '  what are the two divisions in the nfl called', '  when did jennifer lopez begin appearing on in living color', '  what date is the portland marathon held on', '  which role did ellen portray in finding nemo', '  when was the last super bowl appearance by the new york giants', '  what are the complete names associated with harry potter', '  what tv shows or movies is nick cannon in', '  what system of government does brazil use', '  which airport is most convenient for arriving in milan', '  which school did matthias schleiden attend', '  rihanna is from which country', '  what occurred with daddy yankee', '  which nation lies in the balkan peninsula', '  which six states share a border with south dakota', '  what are the major languages spoken in spain', '  which compositions were written by mozart', '  what is the language spoken in thailand', '  who is the current senator representing montana', '  which airport should i choose when flying to rome', '  where can you find the ancient ruins of pompeii', '  what language is commonly used in afghanistan', '  what language do brazilians speak according to wikipedia', '  which cities are must-see in california', '  where did princess leia grow up', '  what’s the name of the pittsburgh steelers’ current head coach', '  when does canada’s wonderland park close for the season', '  when was the last time the lakers won the nba title', '  in which year did the great fire of san francisco take place', '  what countries border france', '  which songs did patrick swayze perform', '  what art movement is salvador dali linked with', '  where was leonardo da vinci born', '  what was the cause of death for king george v', '  name the three largest rivers in south america.  what other breakthroughs did isaac newton make', '  who was the original founder of pixar', '  what are the names of tia and tamera mowry’s parents', '  which political party was abraham lincoln affiliated with', '  what might have happened if germany had been victorious in world war 1', '  what type of political structure does china follow', '  in which part of the world is greece located', '  which three countries have borders with mexico', '  in which year did the blackout in new york occur', '  which nations have english as their native language', '  what position does rafael furcal play in baseball', '  what are some key exports from the united states', '  which tv series did kellie martin act in', '  where was rihanna raised as a child', '  where can whistler mountain be found', '  what currency is required when visiting cuba', '  what is the home country of james cook', '  who was julia roberts married to in 2012', '  which sport is rebecca adlington associated with', '  when did the christchurch earthquake occur', '  what nations are among canada’s trade partners', '  what attractions are available to see in singapore during the evening', '  who acted in the role of mason capwell', '  what is james madison well known for', '  who did the maccabees rise up against', '  where did the battle of antietam take place', '  during which war was abraham lincoln the president', '  what were the names of shakespeare’s parents', '  where is shakira originally from', '  who played the role of captain kirk in the 2009 film', '  who was hera’s husband', '  what brand or type of guitar is used by kirk hammett', '  what is the primary language spoken in the philippines', '  in which region can kakadu national park be located', '  what family activities are available today in denver', '  what form of currency is used in jamaica', '  in what year did william mckinley take office as president', '  when was john f. kennedy sworn in as president', '  which timezone is colorado currently observing', '  who was the owner of aston martin in 2012', '  what medical condition does jack osbourne have', '  what are the core beliefs of islam', '  in 2013, which club was david beckham scheduled to play for', '  what is the official language in taiwan', '  who holds ownership of the toronto maple leafs', '  which county is novato, california situated in', '  what are the fundamental principles of the sikh religion', '  where did hernando cortez pass away', '  who was liz taylor’s spouse', '  where was the historic land of mesopotamia located', '  who was brandi from real housewives previously married to', '  when was the charlotte bobcats’ nba debut', '  what’s the title of the book hitler wrote during his imprisonment', '  where was the center of the ottoman empire']\n"
     ]
    }
   ],
   "execution_count": 9
  },
  {
   "metadata": {
    "ExecuteTime": {
     "end_time": "2025-05-10T11:11:10.480353Z",
     "start_time": "2025-05-10T11:07:48.753025Z"
    }
   },
   "cell_type": "code",
   "source": [
    "d = pd.read_csv('../Data/df_merged.csv')\n",
    "\n",
    "with ZipFile('../my-embeddings.zip', 'r') as zip:\n",
    "    # printing all the contents of the zip file\n",
    "    zip.printdir()\n",
    "    zip.extractall()\n",
    "\n",
    "with open(\"my-embeddings.pkl\", \"rb\") as fIn:\n",
    "    cache_data = pickle.load(fIn)\n",
    "    embeddings = cache_data['embeddings']\n",
    "model = SentenceTransformer('sentence-transformers/all-MiniLM-L6-v2')\n",
    "\n",
    "embeddingsQ = model.encode(question_list)\n",
    "indexes = []\n",
    "\n",
    "for q in embeddingsQ:\n",
    "    q = np.array(q).reshape(1, -1)\n",
    "    index = faiss.IndexFlatL2(embeddings.shape[1])\n",
    "\n",
    "    index = faiss.IndexIDMap(index)\n",
    "\n",
    "    index.add_with_ids(embeddings, d.index.values)\n",
    "\n",
    "    with open(\"faiss_index.pickle\", \"wb\") as f:\n",
    "        pickle.dump(faiss.serialize_index(index), f)\n",
    "\n",
    "    L2, ID = index.search(np.array(q).astype(\"float32\"), k=1)\n",
    "    indexes.append(ID.flatten().tolist()[0])"
   ],
   "id": "d3b90d3e7670b4e5",
   "outputs": [
    {
     "name": "stdout",
     "output_type": "stream",
     "text": [
      "File Name                                             Modified             Size\n",
      "my-embeddings.pkl                              2025-05-10 13:20:50    139155638\n"
     ]
    }
   ],
   "execution_count": 12
  },
  {
   "metadata": {
    "ExecuteTime": {
     "end_time": "2025-05-10T11:11:28.847670Z",
     "start_time": "2025-05-10T11:11:28.830517Z"
    }
   },
   "cell_type": "code",
   "source": [
    "print(indexes)\n",
    "len(indexes)"
   ],
   "id": "39cdca226aef2104",
   "outputs": [
    {
     "name": "stdout",
     "output_type": "stream",
     "text": [
      "[0, 1, 2, 3, 4, 5, 6, 7, 8, 9, 10, 11, 12, 13, 14, 15, 16, 17, 18, 19, 20, 515, 22, 23, 871, 2388, 26, 27, 28, 29, 30, 31, 32, 33, 34, 35, 36, 37, 38, 39, 40, 3467, 42, 43, 44, 45, 14754, 47, 48, 49, 50, 51, 52, 53, 54, 55, 56, 57, 58, 59, 2496, 61, 62, 63, 64, 65, 66, 67, 68, 69, 70, 71, 72, 73, 74, 75, 76, 3434, 78, 79, 80, 81, 82, 1406, 84, 85, 86, 87, 88, 89, 90, 91, 92, 93, 94, 95, 96, 97, 98, 99, 100, 387, 102, 103, 104, 105, 180, 107, 108, 109, 110, 135, 2191, 113, 114, 115, 197, 117, 118, 119, 3433, 121, 122, 123, 124, 3164, 126, 127, 128, 129, 264, 131, 132, 133, 134, 135, 136, 3118, 138, 3702, 140, 141, 142, 143, 144, 145, 146, 147, 148, 149, 150, 151, 152, 153, 154, 842, 156, 157, 158, 159, 160, 161, 162, 3757, 164, 165, 166, 1403, 168, 169, 170, 171, 172, 173, 174, 175, 176, 177, 178, 179, 180, 181, 2063, 183, 3021, 185, 186, 187, 188, 189, 190, 3283, 192, 193, 194, 195, 196, 116, 198, 199, 200, 201, 202, 203, 204, 205, 78253, 207, 208, 209, 210, 211, 212, 29236, 214, 215, 216, 217, 218, 219, 220, 221, 222, 223, 224, 225, 226, 227, 228, 2363, 230, 231, 232, 233, 234, 235, 236, 237, 238, 239, 240, 241, 242, 243, 244, 245, 246, 248, 249, 2419, 251, 3069, 42294, 254, 255, 256, 257, 258, 259, 260, 261, 262, 263, 264, 265, 3577, 267, 268, 269, 270, 271, 1590, 273, 274, 2064, 276, 277, 278, 279, 280, 281, 2672, 3328, 3576, 3673, 286, 287, 2188, 1475, 290, 291, 292, 293, 294, 295, 296, 297, 298, 1639, 300]\n"
     ]
    },
    {
     "data": {
      "text/plain": [
       "300"
      ]
     },
     "execution_count": 14,
     "metadata": {},
     "output_type": "execute_result"
    }
   ],
   "execution_count": 14
  },
  {
   "metadata": {
    "ExecuteTime": {
     "end_time": "2025-05-10T11:11:36.401360Z",
     "start_time": "2025-05-10T11:11:36.305629Z"
    }
   },
   "cell_type": "code",
   "source": [
    "from sklearn.metrics import accuracy_score\n",
    "\n",
    "labels = list(range(0, 301))\n",
    "labels.remove(247)  # Unnoticed value which doesn't exit in rephrased questions\n",
    "accuracy = accuracy_score(indexes, labels)\n",
    "accuracy\n"
   ],
   "id": "8e97f0c6ecd6cbec",
   "outputs": [
    {
     "data": {
      "text/plain": [
       "0.8633333333333333"
      ]
     },
     "execution_count": 15,
     "metadata": {},
     "output_type": "execute_result"
    }
   ],
   "execution_count": 15
  },
  {
   "metadata": {
    "ExecuteTime": {
     "end_time": "2025-05-10T11:11:39.273540Z",
     "start_time": "2025-05-10T11:11:39.257642Z"
    }
   },
   "cell_type": "code",
   "source": [
    "different = []\n",
    "for i in indexes:\n",
    "    if i not in labels:\n",
    "        different.append(i)\n",
    "    else:\n",
    "        continue\n",
    "different"
   ],
   "id": "d41619da304015d2",
   "outputs": [
    {
     "data": {
      "text/plain": [
       "[515,\n",
       " 871,\n",
       " 2388,\n",
       " 3467,\n",
       " 14754,\n",
       " 2496,\n",
       " 3434,\n",
       " 1406,\n",
       " 387,\n",
       " 2191,\n",
       " 3433,\n",
       " 3164,\n",
       " 3118,\n",
       " 3702,\n",
       " 842,\n",
       " 3757,\n",
       " 1403,\n",
       " 2063,\n",
       " 3021,\n",
       " 3283,\n",
       " 78253,\n",
       " 29236,\n",
       " 2363,\n",
       " 2419,\n",
       " 3069,\n",
       " 42294,\n",
       " 3577,\n",
       " 1590,\n",
       " 2064,\n",
       " 2672,\n",
       " 3328,\n",
       " 3576,\n",
       " 3673,\n",
       " 2188,\n",
       " 1475,\n",
       " 1639]"
      ]
     },
     "execution_count": 16,
     "metadata": {},
     "output_type": "execute_result"
    }
   ],
   "execution_count": 16
  },
  {
   "metadata": {},
   "cell_type": "markdown",
   "source": "When I reviewed some of the predictions, I noticed that some of them belonged to the same questions. These entries might have been added to the dataset to improve context during training. Still, it's not right to remove them from the dataset, because matching answers can belong to different questions.",
   "id": "879f61c59952f6d6"
  },
  {
   "metadata": {
    "ExecuteTime": {
     "end_time": "2025-05-10T11:11:41.645572Z",
     "start_time": "2025-05-10T11:11:41.392121Z"
    }
   },
   "cell_type": "code",
   "source": [
    "df2 = d[d.index.isin(different)]\n",
    "df2"
   ],
   "id": "d79b2acfd7c3e3a0",
   "outputs": [
    {
     "data": {
      "text/plain": [
       "       Unnamed: 0                                           question  \\\n",
       "387           387   when was the last dallas cowboys super bowl win?   \n",
       "515           515         who is the prime minister of ethiopia now?   \n",
       "842           842              what is the currency of spain called?   \n",
       "871           871    what type of political system does russia have?   \n",
       "1403         1403   what university did bill clinton graduated from?   \n",
       "1406         1406    when did the ny knicks last win a championship?   \n",
       "1475         1475           who does david beckham play for in 2013?   \n",
       "1590         1590  when and where did the battle of antietam take...   \n",
       "1639         1639  what was the name of the book hitler wrote whi...   \n",
       "2063         2063                      who killed vincent chin film?   \n",
       "2064         2064                  where is shakira from originally?   \n",
       "2188         2188      what are the basic beliefs of islam religion?   \n",
       "2191         2191  in what state was the air force academy establ...   \n",
       "2363         2363       what language does people in thailand speak?   \n",
       "2388         2388         what films have taylor lautner starred in?   \n",
       "2419         2419            what party was lincoln affiliated with?   \n",
       "2496         2496               where is portuguese language spoken?   \n",
       "2672         2672            what kind of currency does jamaica use?   \n",
       "3021         3021               what is the currency used in brazil?   \n",
       "3069         3069                 what political system is in china?   \n",
       "3118         3118        what other jobs did benjamin franklin have?   \n",
       "3164         3164          where did martin luther king jr get shot?   \n",
       "3283         3283          when countries joined the european union?   \n",
       "3328         3328       who succeeded william mckinley as president?   \n",
       "3433         3433          who plays the voice of meg in family guy?   \n",
       "3434         3434                      what can you visit in london?   \n",
       "3467         3467                       where is martin cooper from?   \n",
       "3576         3576  who was sworn into office when john f kennedy ...   \n",
       "3577         3577  what date did the earthquake in christchurch h...   \n",
       "3673         3673                      what timezone is colorado in?   \n",
       "3702         3702             who voices lola bunny in looney tunes?   \n",
       "3757         3757                     when did shaq come to the nba?   \n",
       "14754       14754            What was John Shakespeare's profession?   \n",
       "29236       29236  What is another name for the top football divi...   \n",
       "42294       42295                    Greece is where geographically?   \n",
       "78253       78256         To whom is the Golden Boot award given to?   \n",
       "\n",
       "                                                 answers  \n",
       "387                                       Super Bowl XXX  \n",
       "515                                         Meles Zenawi  \n",
       "842                                                 Euro  \n",
       "871                              Constitutional republic  \n",
       "1403                                     Yale Law School  \n",
       "1406                                     1973 NBA Finals  \n",
       "1475                            Paris Saint-Germain F.C.  \n",
       "1590                                          Sharpsburg  \n",
       "1639                                          Mein Kampf  \n",
       "2063                           Ronald Ebens,Michael Nitz  \n",
       "2064                                        Barranquilla  \n",
       "2188                                          Monotheism  \n",
       "2191                                            Colorado  \n",
       "2363                                       Thai Language  \n",
       "2388   New Moon,He\\s a Bully, Charlie Brown,Eclipse,C...  \n",
       "2419   Illinois Republican Party,Republican Party,Nat...  \n",
       "2496   Brazil,Canada,Angola,Portugal,Macau,Cape Verde...  \n",
       "2672                                     Jamaican dollar  \n",
       "3021                                      Brazilian real  \n",
       "3069                                     Communist state  \n",
       "3118   Diplomat,Statesman,Politician,Political activi...  \n",
       "3164                                             Memphis  \n",
       "3283       1/1/1995,1/1/2007,1/1/1973,5/1/2004,3/25/1957  \n",
       "3328                                  Theodore Roosevelt  \n",
       "3433                            Lacey Chabert,Mila Kunis  \n",
       "3434   Regent\\s Park,Tower of London,Buckingham Palac...  \n",
       "3467                            United States of America  \n",
       "3576                                   Lyndon B. Johnson  \n",
       "3577                        2011 Christchurch earthquake  \n",
       "3673                                  Mountain Time Zone  \n",
       "3702                         Britt McKillip,Kristen Wiig  \n",
       "3757                                  1992–93 NBA season  \n",
       "14754                                         inspectors  \n",
       "29236                                         Bundesliga  \n",
       "42294                                    Southern Europe  \n",
       "78253                      the top Premier League scorer  "
      ],
      "text/html": [
       "<div>\n",
       "<style scoped>\n",
       "    .dataframe tbody tr th:only-of-type {\n",
       "        vertical-align: middle;\n",
       "    }\n",
       "\n",
       "    .dataframe tbody tr th {\n",
       "        vertical-align: top;\n",
       "    }\n",
       "\n",
       "    .dataframe thead th {\n",
       "        text-align: right;\n",
       "    }\n",
       "</style>\n",
       "<table border=\"1\" class=\"dataframe\">\n",
       "  <thead>\n",
       "    <tr style=\"text-align: right;\">\n",
       "      <th></th>\n",
       "      <th>Unnamed: 0</th>\n",
       "      <th>question</th>\n",
       "      <th>answers</th>\n",
       "    </tr>\n",
       "  </thead>\n",
       "  <tbody>\n",
       "    <tr>\n",
       "      <th>387</th>\n",
       "      <td>387</td>\n",
       "      <td>when was the last dallas cowboys super bowl win?</td>\n",
       "      <td>Super Bowl XXX</td>\n",
       "    </tr>\n",
       "    <tr>\n",
       "      <th>515</th>\n",
       "      <td>515</td>\n",
       "      <td>who is the prime minister of ethiopia now?</td>\n",
       "      <td>Meles Zenawi</td>\n",
       "    </tr>\n",
       "    <tr>\n",
       "      <th>842</th>\n",
       "      <td>842</td>\n",
       "      <td>what is the currency of spain called?</td>\n",
       "      <td>Euro</td>\n",
       "    </tr>\n",
       "    <tr>\n",
       "      <th>871</th>\n",
       "      <td>871</td>\n",
       "      <td>what type of political system does russia have?</td>\n",
       "      <td>Constitutional republic</td>\n",
       "    </tr>\n",
       "    <tr>\n",
       "      <th>1403</th>\n",
       "      <td>1403</td>\n",
       "      <td>what university did bill clinton graduated from?</td>\n",
       "      <td>Yale Law School</td>\n",
       "    </tr>\n",
       "    <tr>\n",
       "      <th>1406</th>\n",
       "      <td>1406</td>\n",
       "      <td>when did the ny knicks last win a championship?</td>\n",
       "      <td>1973 NBA Finals</td>\n",
       "    </tr>\n",
       "    <tr>\n",
       "      <th>1475</th>\n",
       "      <td>1475</td>\n",
       "      <td>who does david beckham play for in 2013?</td>\n",
       "      <td>Paris Saint-Germain F.C.</td>\n",
       "    </tr>\n",
       "    <tr>\n",
       "      <th>1590</th>\n",
       "      <td>1590</td>\n",
       "      <td>when and where did the battle of antietam take...</td>\n",
       "      <td>Sharpsburg</td>\n",
       "    </tr>\n",
       "    <tr>\n",
       "      <th>1639</th>\n",
       "      <td>1639</td>\n",
       "      <td>what was the name of the book hitler wrote whi...</td>\n",
       "      <td>Mein Kampf</td>\n",
       "    </tr>\n",
       "    <tr>\n",
       "      <th>2063</th>\n",
       "      <td>2063</td>\n",
       "      <td>who killed vincent chin film?</td>\n",
       "      <td>Ronald Ebens,Michael Nitz</td>\n",
       "    </tr>\n",
       "    <tr>\n",
       "      <th>2064</th>\n",
       "      <td>2064</td>\n",
       "      <td>where is shakira from originally?</td>\n",
       "      <td>Barranquilla</td>\n",
       "    </tr>\n",
       "    <tr>\n",
       "      <th>2188</th>\n",
       "      <td>2188</td>\n",
       "      <td>what are the basic beliefs of islam religion?</td>\n",
       "      <td>Monotheism</td>\n",
       "    </tr>\n",
       "    <tr>\n",
       "      <th>2191</th>\n",
       "      <td>2191</td>\n",
       "      <td>in what state was the air force academy establ...</td>\n",
       "      <td>Colorado</td>\n",
       "    </tr>\n",
       "    <tr>\n",
       "      <th>2363</th>\n",
       "      <td>2363</td>\n",
       "      <td>what language does people in thailand speak?</td>\n",
       "      <td>Thai Language</td>\n",
       "    </tr>\n",
       "    <tr>\n",
       "      <th>2388</th>\n",
       "      <td>2388</td>\n",
       "      <td>what films have taylor lautner starred in?</td>\n",
       "      <td>New Moon,He\\s a Bully, Charlie Brown,Eclipse,C...</td>\n",
       "    </tr>\n",
       "    <tr>\n",
       "      <th>2419</th>\n",
       "      <td>2419</td>\n",
       "      <td>what party was lincoln affiliated with?</td>\n",
       "      <td>Illinois Republican Party,Republican Party,Nat...</td>\n",
       "    </tr>\n",
       "    <tr>\n",
       "      <th>2496</th>\n",
       "      <td>2496</td>\n",
       "      <td>where is portuguese language spoken?</td>\n",
       "      <td>Brazil,Canada,Angola,Portugal,Macau,Cape Verde...</td>\n",
       "    </tr>\n",
       "    <tr>\n",
       "      <th>2672</th>\n",
       "      <td>2672</td>\n",
       "      <td>what kind of currency does jamaica use?</td>\n",
       "      <td>Jamaican dollar</td>\n",
       "    </tr>\n",
       "    <tr>\n",
       "      <th>3021</th>\n",
       "      <td>3021</td>\n",
       "      <td>what is the currency used in brazil?</td>\n",
       "      <td>Brazilian real</td>\n",
       "    </tr>\n",
       "    <tr>\n",
       "      <th>3069</th>\n",
       "      <td>3069</td>\n",
       "      <td>what political system is in china?</td>\n",
       "      <td>Communist state</td>\n",
       "    </tr>\n",
       "    <tr>\n",
       "      <th>3118</th>\n",
       "      <td>3118</td>\n",
       "      <td>what other jobs did benjamin franklin have?</td>\n",
       "      <td>Diplomat,Statesman,Politician,Political activi...</td>\n",
       "    </tr>\n",
       "    <tr>\n",
       "      <th>3164</th>\n",
       "      <td>3164</td>\n",
       "      <td>where did martin luther king jr get shot?</td>\n",
       "      <td>Memphis</td>\n",
       "    </tr>\n",
       "    <tr>\n",
       "      <th>3283</th>\n",
       "      <td>3283</td>\n",
       "      <td>when countries joined the european union?</td>\n",
       "      <td>1/1/1995,1/1/2007,1/1/1973,5/1/2004,3/25/1957</td>\n",
       "    </tr>\n",
       "    <tr>\n",
       "      <th>3328</th>\n",
       "      <td>3328</td>\n",
       "      <td>who succeeded william mckinley as president?</td>\n",
       "      <td>Theodore Roosevelt</td>\n",
       "    </tr>\n",
       "    <tr>\n",
       "      <th>3433</th>\n",
       "      <td>3433</td>\n",
       "      <td>who plays the voice of meg in family guy?</td>\n",
       "      <td>Lacey Chabert,Mila Kunis</td>\n",
       "    </tr>\n",
       "    <tr>\n",
       "      <th>3434</th>\n",
       "      <td>3434</td>\n",
       "      <td>what can you visit in london?</td>\n",
       "      <td>Regent\\s Park,Tower of London,Buckingham Palac...</td>\n",
       "    </tr>\n",
       "    <tr>\n",
       "      <th>3467</th>\n",
       "      <td>3467</td>\n",
       "      <td>where is martin cooper from?</td>\n",
       "      <td>United States of America</td>\n",
       "    </tr>\n",
       "    <tr>\n",
       "      <th>3576</th>\n",
       "      <td>3576</td>\n",
       "      <td>who was sworn into office when john f kennedy ...</td>\n",
       "      <td>Lyndon B. Johnson</td>\n",
       "    </tr>\n",
       "    <tr>\n",
       "      <th>3577</th>\n",
       "      <td>3577</td>\n",
       "      <td>what date did the earthquake in christchurch h...</td>\n",
       "      <td>2011 Christchurch earthquake</td>\n",
       "    </tr>\n",
       "    <tr>\n",
       "      <th>3673</th>\n",
       "      <td>3673</td>\n",
       "      <td>what timezone is colorado in?</td>\n",
       "      <td>Mountain Time Zone</td>\n",
       "    </tr>\n",
       "    <tr>\n",
       "      <th>3702</th>\n",
       "      <td>3702</td>\n",
       "      <td>who voices lola bunny in looney tunes?</td>\n",
       "      <td>Britt McKillip,Kristen Wiig</td>\n",
       "    </tr>\n",
       "    <tr>\n",
       "      <th>3757</th>\n",
       "      <td>3757</td>\n",
       "      <td>when did shaq come to the nba?</td>\n",
       "      <td>1992–93 NBA season</td>\n",
       "    </tr>\n",
       "    <tr>\n",
       "      <th>14754</th>\n",
       "      <td>14754</td>\n",
       "      <td>What was John Shakespeare's profession?</td>\n",
       "      <td>inspectors</td>\n",
       "    </tr>\n",
       "    <tr>\n",
       "      <th>29236</th>\n",
       "      <td>29236</td>\n",
       "      <td>What is another name for the top football divi...</td>\n",
       "      <td>Bundesliga</td>\n",
       "    </tr>\n",
       "    <tr>\n",
       "      <th>42294</th>\n",
       "      <td>42295</td>\n",
       "      <td>Greece is where geographically?</td>\n",
       "      <td>Southern Europe</td>\n",
       "    </tr>\n",
       "    <tr>\n",
       "      <th>78253</th>\n",
       "      <td>78256</td>\n",
       "      <td>To whom is the Golden Boot award given to?</td>\n",
       "      <td>the top Premier League scorer</td>\n",
       "    </tr>\n",
       "  </tbody>\n",
       "</table>\n",
       "</div>"
      ]
     },
     "execution_count": 17,
     "metadata": {},
     "output_type": "execute_result"
    }
   ],
   "execution_count": 17
  },
  {
   "metadata": {},
   "cell_type": "code",
   "outputs": [],
   "execution_count": null,
   "source": "",
   "id": "3b8f857310170229"
  }
 ],
 "metadata": {
  "kernelspec": {
   "display_name": "Python 3",
   "language": "python",
   "name": "python3"
  },
  "language_info": {
   "codemirror_mode": {
    "name": "ipython",
    "version": 2
   },
   "file_extension": ".py",
   "mimetype": "text/x-python",
   "name": "python",
   "nbconvert_exporter": "python",
   "pygments_lexer": "ipython2",
   "version": "2.7.6"
  }
 },
 "nbformat": 4,
 "nbformat_minor": 5
}
